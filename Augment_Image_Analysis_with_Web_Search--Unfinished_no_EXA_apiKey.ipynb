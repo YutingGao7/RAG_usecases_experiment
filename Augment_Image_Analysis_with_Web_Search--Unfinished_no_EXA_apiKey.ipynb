{
 "cells": [
  {
   "cell_type": "code",
   "execution_count": null,
   "id": "c25c2634",
   "metadata": {},
   "outputs": [],
   "source": [
    "# This notebook is an experiement that implements LlamaIndex's use case on augment image analysis\n",
    "# that constructes a ReAct agent (Chain of Thoughts)\n",
    "# https://docs.llamaindex.ai/en/stable/examples/multi_modal/mm_agent.html\n",
    "# because of the unaccessibility of the EXAtool API key, this notebook has not been finished\n",
    "# Could be a fun use case for RAG playground"
   ]
  },
  {
   "cell_type": "code",
   "execution_count": null,
   "id": "57edc4d9",
   "metadata": {},
   "outputs": [],
   "source": [
    "# Web Agent: Given text/images, can query a web tool to lookup relevant information from the web (given a picture of shoes)."
   ]
  },
  {
   "cell_type": "code",
   "execution_count": 2,
   "id": "6c2e996d",
   "metadata": {},
   "outputs": [],
   "source": [
    "# get api_key from .env\n",
    "import os\n",
    "import openai\n",
    "from dotenv import load_dotenv, find_dotenv\n",
    "\n",
    "_ = load_dotenv(find_dotenv())\n",
    "# openai.api_key = os.environ['OPENAI_API_KEY']"
   ]
  },
  {
   "cell_type": "code",
   "execution_count": 4,
   "id": "db64f1b0",
   "metadata": {},
   "outputs": [
    {
     "name": "stdout",
     "output_type": "stream",
     "text": [
      "Collecting llama-hub\n",
      "  Downloading llama_hub-0.0.77-py3-none-any.whl (104.2 MB)\n",
      "\u001b[2K     \u001b[90m━━━━━━━━━━━━━━━━━━━━━━━━━━━━━━━━━━━━━━\u001b[0m \u001b[32m104.2/104.2 MB\u001b[0m \u001b[31m20.3 MB/s\u001b[0m eta \u001b[36m0:00:00\u001b[0m00:01\u001b[0m00:01\u001b[0m\n",
      "\u001b[?25hRequirement already satisfied: psutil in /Users/Candy/miniforge3/envs/yt/lib/python3.9/site-packages (from llama-hub) (5.9.0)\n",
      "Collecting pyaml<24.0.0,>=23.9.7\n",
      "  Downloading pyaml-23.12.0-py3-none-any.whl (23 kB)\n",
      "Collecting html2text\n",
      "  Downloading html2text-2020.1.16-py3-none-any.whl (32 kB)\n",
      "Collecting retrying\n",
      "  Downloading retrying-1.3.4-py3-none-any.whl (11 kB)\n",
      "Collecting llama-index>=0.9.39\n",
      "  Using cached llama_index-0.9.40-py3-none-any.whl (15.9 MB)\n",
      "Collecting nest-asyncio<2.0.0,>=1.5.8\n",
      "  Using cached nest_asyncio-1.6.0-py3-none-any.whl (5.2 kB)\n",
      "Collecting requests>=2.31.0\n",
      "  Using cached requests-2.31.0-py3-none-any.whl (62 kB)\n",
      "Requirement already satisfied: fsspec>=2023.5.0 in /Users/Candy/miniforge3/envs/yt/lib/python3.9/site-packages (from llama-index>=0.9.39->llama-hub) (2023.12.2)\n",
      "Requirement already satisfied: SQLAlchemy[asyncio]>=1.4.49 in /Users/Candy/miniforge3/envs/yt/lib/python3.9/site-packages (from llama-index>=0.9.39->llama-hub) (2.0.23)\n",
      "Requirement already satisfied: numpy in /Users/Candy/miniforge3/envs/yt/lib/python3.9/site-packages (from llama-index>=0.9.39->llama-hub) (1.22.0)\n",
      "Collecting typing-inspect>=0.8.0\n",
      "  Using cached typing_inspect-0.9.0-py3-none-any.whl (8.8 kB)\n",
      "Collecting tenacity<9.0.0,>=8.2.0\n",
      "  Using cached tenacity-8.2.3-py3-none-any.whl (24 kB)\n",
      "Requirement already satisfied: openai>=1.1.0 in /Users/Candy/miniforge3/envs/yt/lib/python3.9/site-packages (from llama-index>=0.9.39->llama-hub) (1.10.0)\n",
      "Collecting dirtyjson<2.0.0,>=1.0.8\n",
      "  Using cached dirtyjson-1.0.8-py3-none-any.whl (25 kB)\n",
      "Collecting nltk<4.0.0,>=3.8.1\n",
      "  Using cached nltk-3.8.1-py3-none-any.whl (1.5 MB)\n",
      "Collecting aiohttp<4.0.0,>=3.8.6\n",
      "  Downloading aiohttp-3.9.3-cp39-cp39-macosx_11_0_arm64.whl (388 kB)\n",
      "\u001b[2K     \u001b[90m━━━━━━━━━━━━━━━━━━━━━━━━━━━━━━━━━━━━━━\u001b[0m \u001b[32m388.2/388.2 KB\u001b[0m \u001b[31m40.1 MB/s\u001b[0m eta \u001b[36m0:00:00\u001b[0m\n",
      "\u001b[?25hRequirement already satisfied: typing-extensions>=4.5.0 in /Users/Candy/miniforge3/envs/yt/lib/python3.9/site-packages (from llama-index>=0.9.39->llama-hub) (4.9.0)\n",
      "Collecting networkx>=3.0\n",
      "  Using cached networkx-3.2.1-py3-none-any.whl (1.6 MB)\n",
      "Requirement already satisfied: httpx in /Users/Candy/miniforge3/envs/yt/lib/python3.9/site-packages (from llama-index>=0.9.39->llama-hub) (0.25.2)\n",
      "Requirement already satisfied: pandas in /Users/Candy/miniforge3/envs/yt/lib/python3.9/site-packages (from llama-index>=0.9.39->llama-hub) (1.4.2)\n",
      "Collecting tiktoken>=0.3.3\n",
      "  Downloading tiktoken-0.5.2-cp39-cp39-macosx_11_0_arm64.whl (955 kB)\n",
      "\u001b[2K     \u001b[90m━━━━━━━━━━━━━━━━━━━━━━━━━━━━━━━━━━━━━━\u001b[0m \u001b[32m955.6/955.6 KB\u001b[0m \u001b[31m25.3 MB/s\u001b[0m eta \u001b[36m0:00:00\u001b[0m\n",
      "\u001b[?25hCollecting dataclasses-json\n",
      "  Using cached dataclasses_json-0.6.3-py3-none-any.whl (28 kB)\n",
      "Collecting deprecated>=1.2.9.3\n",
      "  Using cached Deprecated-1.2.14-py2.py3-none-any.whl (9.6 kB)\n",
      "Requirement already satisfied: PyYAML in /Users/Candy/miniforge3/envs/yt/lib/python3.9/site-packages (from pyaml<24.0.0,>=23.9.7->llama-hub) (6.0)\n",
      "Requirement already satisfied: six>=1.7.0 in /Users/Candy/miniforge3/envs/yt/lib/python3.9/site-packages (from retrying->llama-hub) (1.15.0)\n",
      "Requirement already satisfied: async-timeout<5.0,>=4.0 in /Users/Candy/miniforge3/envs/yt/lib/python3.9/site-packages (from aiohttp<4.0.0,>=3.8.6->llama-index>=0.9.39->llama-hub) (4.0.1)\n",
      "Requirement already satisfied: attrs>=17.3.0 in /Users/Candy/miniforge3/envs/yt/lib/python3.9/site-packages (from aiohttp<4.0.0,>=3.8.6->llama-index>=0.9.39->llama-hub) (21.4.0)\n",
      "Requirement already satisfied: aiosignal>=1.1.2 in /Users/Candy/miniforge3/envs/yt/lib/python3.9/site-packages (from aiohttp<4.0.0,>=3.8.6->llama-index>=0.9.39->llama-hub) (1.2.0)\n",
      "Requirement already satisfied: multidict<7.0,>=4.5 in /Users/Candy/miniforge3/envs/yt/lib/python3.9/site-packages (from aiohttp<4.0.0,>=3.8.6->llama-index>=0.9.39->llama-hub) (5.2.0)\n",
      "Requirement already satisfied: yarl<2.0,>=1.0 in /Users/Candy/miniforge3/envs/yt/lib/python3.9/site-packages (from aiohttp<4.0.0,>=3.8.6->llama-index>=0.9.39->llama-hub) (1.6.3)\n",
      "Requirement already satisfied: frozenlist>=1.1.1 in /Users/Candy/miniforge3/envs/yt/lib/python3.9/site-packages (from aiohttp<4.0.0,>=3.8.6->llama-index>=0.9.39->llama-hub) (1.2.0)\n",
      "Requirement already satisfied: wrapt<2,>=1.10 in /Users/Candy/miniforge3/envs/yt/lib/python3.9/site-packages (from deprecated>=1.2.9.3->llama-index>=0.9.39->llama-hub) (1.12.1)\n",
      "Requirement already satisfied: tqdm in /Users/Candy/miniforge3/envs/yt/lib/python3.9/site-packages (from nltk<4.0.0,>=3.8.1->llama-index>=0.9.39->llama-hub) (4.63.0)\n",
      "Requirement already satisfied: regex>=2021.8.3 in /Users/Candy/miniforge3/envs/yt/lib/python3.9/site-packages (from nltk<4.0.0,>=3.8.1->llama-index>=0.9.39->llama-hub) (2022.4.24)\n",
      "Requirement already satisfied: click in /Users/Candy/miniforge3/envs/yt/lib/python3.9/site-packages (from nltk<4.0.0,>=3.8.1->llama-index>=0.9.39->llama-hub) (8.0.4)\n",
      "Requirement already satisfied: joblib in /Users/Candy/miniforge3/envs/yt/lib/python3.9/site-packages (from nltk<4.0.0,>=3.8.1->llama-index>=0.9.39->llama-hub) (1.1.0)\n",
      "Requirement already satisfied: pydantic<3,>=1.9.0 in /Users/Candy/miniforge3/envs/yt/lib/python3.9/site-packages (from openai>=1.1.0->llama-index>=0.9.39->llama-hub) (2.5.2)\n",
      "Requirement already satisfied: distro<2,>=1.7.0 in /Users/Candy/miniforge3/envs/yt/lib/python3.9/site-packages (from openai>=1.1.0->llama-index>=0.9.39->llama-hub) (1.9.0)\n",
      "Requirement already satisfied: anyio<5,>=3.5.0 in /Users/Candy/miniforge3/envs/yt/lib/python3.9/site-packages (from openai>=1.1.0->llama-index>=0.9.39->llama-hub) (3.7.1)\n",
      "Requirement already satisfied: sniffio in /Users/Candy/miniforge3/envs/yt/lib/python3.9/site-packages (from openai>=1.1.0->llama-index>=0.9.39->llama-hub) (1.3.0)\n",
      "Requirement already satisfied: httpcore==1.* in /Users/Candy/miniforge3/envs/yt/lib/python3.9/site-packages (from httpx->llama-index>=0.9.39->llama-hub) (1.0.2)\n",
      "Requirement already satisfied: certifi in /Users/Candy/miniforge3/envs/yt/lib/python3.9/site-packages (from httpx->llama-index>=0.9.39->llama-hub) (2021.10.8)\n",
      "Requirement already satisfied: idna in /Users/Candy/miniforge3/envs/yt/lib/python3.9/site-packages (from httpx->llama-index>=0.9.39->llama-hub) (3.3)\n",
      "Requirement already satisfied: h11<0.15,>=0.13 in /Users/Candy/miniforge3/envs/yt/lib/python3.9/site-packages (from httpcore==1.*->httpx->llama-index>=0.9.39->llama-hub) (0.14.0)\n",
      "Requirement already satisfied: charset-normalizer<4,>=2 in /Users/Candy/miniforge3/envs/yt/lib/python3.9/site-packages (from requests>=2.31.0->llama-index>=0.9.39->llama-hub) (2.0.12)\n",
      "Requirement already satisfied: urllib3<3,>=1.21.1 in /Users/Candy/miniforge3/envs/yt/lib/python3.9/site-packages (from requests>=2.31.0->llama-index>=0.9.39->llama-hub) (1.26.9)\n",
      "Collecting greenlet!=0.4.17\n",
      "  Downloading greenlet-3.0.3-cp39-cp39-macosx_11_0_universal2.whl (269 kB)\n",
      "\u001b[2K     \u001b[90m━━━━━━━━━━━━━━━━━━━━━━━━━━━━━━━━━━━━━━\u001b[0m \u001b[32m269.2/269.2 KB\u001b[0m \u001b[31m24.5 MB/s\u001b[0m eta \u001b[36m0:00:00\u001b[0m\n",
      "\u001b[?25hCollecting mypy-extensions>=0.3.0\n",
      "  Using cached mypy_extensions-1.0.0-py3-none-any.whl (4.7 kB)\n",
      "Collecting marshmallow<4.0.0,>=3.18.0\n",
      "  Using cached marshmallow-3.20.2-py3-none-any.whl (49 kB)\n",
      "Requirement already satisfied: python-dateutil>=2.8.1 in /Users/Candy/miniforge3/envs/yt/lib/python3.9/site-packages (from pandas->llama-index>=0.9.39->llama-hub) (2.8.2)\n",
      "Requirement already satisfied: pytz>=2020.1 in /Users/Candy/miniforge3/envs/yt/lib/python3.9/site-packages (from pandas->llama-index>=0.9.39->llama-hub) (2022.1)\n",
      "Requirement already satisfied: exceptiongroup in /Users/Candy/miniforge3/envs/yt/lib/python3.9/site-packages (from anyio<5,>=3.5.0->openai>=1.1.0->llama-index>=0.9.39->llama-hub) (1.2.0)\n",
      "Requirement already satisfied: packaging>=17.0 in /Users/Candy/miniforge3/envs/yt/lib/python3.9/site-packages (from marshmallow<4.0.0,>=3.18.0->dataclasses-json->llama-index>=0.9.39->llama-hub) (21.3)\n",
      "Requirement already satisfied: annotated-types>=0.4.0 in /Users/Candy/miniforge3/envs/yt/lib/python3.9/site-packages (from pydantic<3,>=1.9.0->openai>=1.1.0->llama-index>=0.9.39->llama-hub) (0.6.0)\n",
      "Requirement already satisfied: pydantic-core==2.14.5 in /Users/Candy/miniforge3/envs/yt/lib/python3.9/site-packages (from pydantic<3,>=1.9.0->openai>=1.1.0->llama-index>=0.9.39->llama-hub) (2.14.5)\n"
     ]
    },
    {
     "name": "stdout",
     "output_type": "stream",
     "text": [
      "Requirement already satisfied: pyparsing!=3.0.5,>=2.0.2 in /Users/Candy/miniforge3/envs/yt/lib/python3.9/site-packages (from packaging>=17.0->marshmallow<4.0.0,>=3.18.0->dataclasses-json->llama-index>=0.9.39->llama-hub) (3.0.8)\n",
      "Installing collected packages: dirtyjson, tenacity, retrying, requests, pyaml, nltk, networkx, nest-asyncio, mypy-extensions, html2text, greenlet, deprecated, typing-inspect, tiktoken, marshmallow, aiohttp, dataclasses-json, llama-index, llama-hub\n",
      "  Attempting uninstall: requests\n",
      "    Found existing installation: requests 2.27.1\n",
      "    Uninstalling requests-2.27.1:\n",
      "      Successfully uninstalled requests-2.27.1\n",
      "  Attempting uninstall: nltk\n",
      "    Found existing installation: nltk 3.7\n",
      "    Uninstalling nltk-3.7:\n",
      "      Successfully uninstalled nltk-3.7\n",
      "  Attempting uninstall: networkx\n",
      "    Found existing installation: networkx 2.8\n",
      "    Uninstalling networkx-2.8:\n",
      "      Successfully uninstalled networkx-2.8\n",
      "  Attempting uninstall: nest-asyncio\n",
      "    Found existing installation: nest-asyncio 1.5.5\n",
      "    Uninstalling nest-asyncio-1.5.5:\n",
      "      Successfully uninstalled nest-asyncio-1.5.5\n",
      "  Attempting uninstall: aiohttp\n",
      "    Found existing installation: aiohttp 3.8.1\n",
      "    Uninstalling aiohttp-3.8.1:\n",
      "      Successfully uninstalled aiohttp-3.8.1\n",
      "\u001b[31mERROR: pip's dependency resolver does not currently take into account all the packages that are installed. This behaviour is the source of the following dependency conflicts.\n",
      "spacy 3.3.0 requires pydantic!=1.8,!=1.8.1,<1.9.0,>=1.7.4, but you have pydantic 2.5.2 which is incompatible.\n",
      "spacy 3.3.0 requires typer<0.5.0,>=0.3.0, but you have typer 0.9.0 which is incompatible.\u001b[0m\u001b[31m\n",
      "\u001b[0mSuccessfully installed aiohttp-3.9.3 dataclasses-json-0.6.3 deprecated-1.2.14 dirtyjson-1.0.8 greenlet-3.0.3 html2text-2020.1.16 llama-hub-0.0.77 llama-index-0.9.40 marshmallow-3.20.2 mypy-extensions-1.0.0 nest-asyncio-1.6.0 networkx-3.2.1 nltk-3.8.1 pyaml-23.12.0 requests-2.31.0 retrying-1.3.4 tenacity-8.2.3 tiktoken-0.5.2 typing-inspect-0.9.0\n"
     ]
    }
   ],
   "source": [
    "!pip3 install llama-hub\n",
    "!pip3 install exa_py"
   ]
  },
  {
   "cell_type": "code",
   "execution_count": 13,
   "id": "ff463f6a",
   "metadata": {},
   "outputs": [],
   "source": [
    "from llama_hub.tools.exa import ExaToolSpec\n",
    "from llama_index.agent.react_multimodal.step import MultimodalReActAgentWorker\n",
    "from llama_index.agent import AgentRunner\n",
    "from llama_index.multi_modal_llms import MultiModalLLM, OpenAIMultiModal\n",
    "from llama_index.agent import Task"
   ]
  },
  {
   "cell_type": "code",
   "execution_count": 14,
   "id": "20f710fa",
   "metadata": {},
   "outputs": [],
   "source": [
    "# https://llamahub.ai/l/tools-exa?from=all\n",
    "# This tool connects to Exa to easily enable your agent to search and get HTML content from the Internet.\n",
    "exa_tool_spec = ExaToolSpec(\n",
    "    api_key=os.environ['OPENAI_API_KEY'],\n",
    ")\n",
    "exa_tools = exa_tool_spec.to_tool_list()"
   ]
  },
  {
   "cell_type": "code",
   "execution_count": 15,
   "id": "5575d8ab",
   "metadata": {},
   "outputs": [],
   "source": [
    "mm_llm = OpenAIMultiModal(model=\"gpt-4-vision-preview\", max_new_tokens=1000)"
   ]
  },
  {
   "cell_type": "code",
   "execution_count": 16,
   "id": "c9c1748d",
   "metadata": {},
   "outputs": [],
   "source": [
    "# Initialize AgentRunner with OpenAIAgentWorker\n",
    "react_step_engine = MultimodalReActAgentWorker.from_tools(\n",
    "    exa_tools,\n",
    "    # [],\n",
    "    multi_modal_llm=mm_llm,\n",
    "    verbose=True,\n",
    ")\n",
    "agent = AgentRunner(react_step_engine)"
   ]
  },
  {
   "cell_type": "code",
   "execution_count": 23,
   "id": "019e7956",
   "metadata": {},
   "outputs": [],
   "source": [
    "from llama_index.schema import ImageDocument\n",
    "\n",
    "query_str = \"Look up some reviews regarding these shoes.\"\n",
    "image_document = ImageDocument(image_path=\"./addidas.png\")\n",
    "\n",
    "task = agent.create_task(\n",
    "    query_str, extra_state={\"image_docs\": [image_document]}\n",
    ")"
   ]
  },
  {
   "cell_type": "code",
   "execution_count": 24,
   "id": "fab3c919",
   "metadata": {},
   "outputs": [],
   "source": [
    "def execute_step(agent: AgentRunner, task: Task):\n",
    "    step_output = agent.run_step(task.task_id)\n",
    "    if step_output.is_last:\n",
    "        response = agent.finalize_response(task.task_id)\n",
    "        print(f\"> Agent finished: {str(response)}\")\n",
    "        return response\n",
    "    else:\n",
    "        return None\n",
    "\n",
    "\n",
    "def execute_steps(agent: AgentRunner, task: Task):\n",
    "    response = execute_step(agent, task)\n",
    "    while response is None:\n",
    "        response = execute_step(agent, task)\n",
    "    return response"
   ]
  },
  {
   "cell_type": "code",
   "execution_count": 25,
   "id": "1675ddd9",
   "metadata": {},
   "outputs": [
    {
     "name": "stdout",
     "output_type": "stream",
     "text": [
      "\u001b[1;3;38;5;200mThought: The image shows a pair of white sneakers with black stripes, which appear to be Adidas Superstars. I need to use a tool to search for reviews of these shoes.\n",
      "Action: search\n",
      "Action Input: {'query': 'Adidas Superstar sneakers reviews'}\n",
      "\u001b[0m"
     ]
    },
    {
     "ename": "ValueError",
     "evalue": "Request failed with status code 401: {\"error\":\"Invalid API key. API key is not a UUID\"}",
     "output_type": "error",
     "traceback": [
      "\u001b[0;31m---------------------------------------------------------------------------\u001b[0m",
      "\u001b[0;31mValueError\u001b[0m                                Traceback (most recent call last)",
      "Input \u001b[0;32mIn [25]\u001b[0m, in \u001b[0;36m<cell line: 1>\u001b[0;34m()\u001b[0m\n\u001b[0;32m----> 1\u001b[0m response \u001b[38;5;241m=\u001b[39m \u001b[43mexecute_step\u001b[49m\u001b[43m(\u001b[49m\u001b[43magent\u001b[49m\u001b[43m,\u001b[49m\u001b[43m \u001b[49m\u001b[43mtask\u001b[49m\u001b[43m)\u001b[49m\n",
      "Input \u001b[0;32mIn [24]\u001b[0m, in \u001b[0;36mexecute_step\u001b[0;34m(agent, task)\u001b[0m\n\u001b[1;32m      1\u001b[0m \u001b[38;5;28;01mdef\u001b[39;00m \u001b[38;5;21mexecute_step\u001b[39m(agent: AgentRunner, task: Task):\n\u001b[0;32m----> 2\u001b[0m     step_output \u001b[38;5;241m=\u001b[39m \u001b[43magent\u001b[49m\u001b[38;5;241;43m.\u001b[39;49m\u001b[43mrun_step\u001b[49m\u001b[43m(\u001b[49m\u001b[43mtask\u001b[49m\u001b[38;5;241;43m.\u001b[39;49m\u001b[43mtask_id\u001b[49m\u001b[43m)\u001b[49m\n\u001b[1;32m      3\u001b[0m     \u001b[38;5;28;01mif\u001b[39;00m step_output\u001b[38;5;241m.\u001b[39mis_last:\n\u001b[1;32m      4\u001b[0m         response \u001b[38;5;241m=\u001b[39m agent\u001b[38;5;241m.\u001b[39mfinalize_response(task\u001b[38;5;241m.\u001b[39mtask_id)\n",
      "File \u001b[0;32m~/miniforge3/envs/yt/lib/python3.9/site-packages/llama_index/agent/runner/base.py:358\u001b[0m, in \u001b[0;36mAgentRunner.run_step\u001b[0;34m(self, task_id, input, step, **kwargs)\u001b[0m\n\u001b[1;32m    356\u001b[0m \u001b[38;5;250m\u001b[39m\u001b[38;5;124;03m\"\"\"Run step.\"\"\"\u001b[39;00m\n\u001b[1;32m    357\u001b[0m step \u001b[38;5;241m=\u001b[39m validate_step_from_args(task_id, \u001b[38;5;28minput\u001b[39m, step, \u001b[38;5;241m*\u001b[39m\u001b[38;5;241m*\u001b[39mkwargs)\n\u001b[0;32m--> 358\u001b[0m \u001b[38;5;28;01mreturn\u001b[39;00m \u001b[38;5;28;43mself\u001b[39;49m\u001b[38;5;241;43m.\u001b[39;49m\u001b[43m_run_step\u001b[49m\u001b[43m(\u001b[49m\u001b[43mtask_id\u001b[49m\u001b[43m,\u001b[49m\u001b[43m \u001b[49m\u001b[43mstep\u001b[49m\u001b[43m,\u001b[49m\u001b[43m \u001b[49m\u001b[43mmode\u001b[49m\u001b[38;5;241;43m=\u001b[39;49m\u001b[43mChatResponseMode\u001b[49m\u001b[38;5;241;43m.\u001b[39;49m\u001b[43mWAIT\u001b[49m\u001b[43m,\u001b[49m\u001b[43m \u001b[49m\u001b[38;5;241;43m*\u001b[39;49m\u001b[38;5;241;43m*\u001b[39;49m\u001b[43mkwargs\u001b[49m\u001b[43m)\u001b[49m\n",
      "File \u001b[0;32m~/miniforge3/envs/yt/lib/python3.9/site-packages/llama_index/agent/runner/base.py:304\u001b[0m, in \u001b[0;36mAgentRunner._run_step\u001b[0;34m(self, task_id, step, mode, **kwargs)\u001b[0m\n\u001b[1;32m    300\u001b[0m \u001b[38;5;66;03m# TODO: figure out if you can dynamically swap in different step executors\u001b[39;00m\n\u001b[1;32m    301\u001b[0m \u001b[38;5;66;03m# not clear when you would do that by theoretically possible\u001b[39;00m\n\u001b[1;32m    303\u001b[0m \u001b[38;5;28;01mif\u001b[39;00m mode \u001b[38;5;241m==\u001b[39m ChatResponseMode\u001b[38;5;241m.\u001b[39mWAIT:\n\u001b[0;32m--> 304\u001b[0m     cur_step_output \u001b[38;5;241m=\u001b[39m \u001b[38;5;28;43mself\u001b[39;49m\u001b[38;5;241;43m.\u001b[39;49m\u001b[43magent_worker\u001b[49m\u001b[38;5;241;43m.\u001b[39;49m\u001b[43mrun_step\u001b[49m\u001b[43m(\u001b[49m\u001b[43mstep\u001b[49m\u001b[43m,\u001b[49m\u001b[43m \u001b[49m\u001b[43mtask\u001b[49m\u001b[43m,\u001b[49m\u001b[43m \u001b[49m\u001b[38;5;241;43m*\u001b[39;49m\u001b[38;5;241;43m*\u001b[39;49m\u001b[43mkwargs\u001b[49m\u001b[43m)\u001b[49m\n\u001b[1;32m    305\u001b[0m \u001b[38;5;28;01melif\u001b[39;00m mode \u001b[38;5;241m==\u001b[39m ChatResponseMode\u001b[38;5;241m.\u001b[39mSTREAM:\n\u001b[1;32m    306\u001b[0m     cur_step_output \u001b[38;5;241m=\u001b[39m \u001b[38;5;28mself\u001b[39m\u001b[38;5;241m.\u001b[39magent_worker\u001b[38;5;241m.\u001b[39mstream_step(step, task, \u001b[38;5;241m*\u001b[39m\u001b[38;5;241m*\u001b[39mkwargs)\n",
      "File \u001b[0;32m~/miniforge3/envs/yt/lib/python3.9/site-packages/llama_index/callbacks/utils.py:41\u001b[0m, in \u001b[0;36mtrace_method.<locals>.decorator.<locals>.wrapper\u001b[0;34m(self, *args, **kwargs)\u001b[0m\n\u001b[1;32m     39\u001b[0m callback_manager \u001b[38;5;241m=\u001b[39m cast(CallbackManager, callback_manager)\n\u001b[1;32m     40\u001b[0m \u001b[38;5;28;01mwith\u001b[39;00m callback_manager\u001b[38;5;241m.\u001b[39mas_trace(trace_id):\n\u001b[0;32m---> 41\u001b[0m     \u001b[38;5;28;01mreturn\u001b[39;00m \u001b[43mfunc\u001b[49m\u001b[43m(\u001b[49m\u001b[38;5;28;43mself\u001b[39;49m\u001b[43m,\u001b[49m\u001b[43m \u001b[49m\u001b[38;5;241;43m*\u001b[39;49m\u001b[43margs\u001b[49m\u001b[43m,\u001b[49m\u001b[43m \u001b[49m\u001b[38;5;241;43m*\u001b[39;49m\u001b[38;5;241;43m*\u001b[39;49m\u001b[43mkwargs\u001b[49m\u001b[43m)\u001b[49m\n",
      "File \u001b[0;32m~/miniforge3/envs/yt/lib/python3.9/site-packages/llama_index/agent/react_multimodal/step.py:447\u001b[0m, in \u001b[0;36mMultimodalReActAgentWorker.run_step\u001b[0;34m(self, step, task, **kwargs)\u001b[0m\n\u001b[1;32m    444\u001b[0m \u001b[38;5;129m@trace_method\u001b[39m(\u001b[38;5;124m\"\u001b[39m\u001b[38;5;124mrun_step\u001b[39m\u001b[38;5;124m\"\u001b[39m)\n\u001b[1;32m    445\u001b[0m \u001b[38;5;28;01mdef\u001b[39;00m \u001b[38;5;21mrun_step\u001b[39m(\u001b[38;5;28mself\u001b[39m, step: TaskStep, task: Task, \u001b[38;5;241m*\u001b[39m\u001b[38;5;241m*\u001b[39mkwargs: Any) \u001b[38;5;241m-\u001b[39m\u001b[38;5;241m>\u001b[39m TaskStepOutput:\n\u001b[1;32m    446\u001b[0m \u001b[38;5;250m    \u001b[39m\u001b[38;5;124;03m\"\"\"Run step.\"\"\"\u001b[39;00m\n\u001b[0;32m--> 447\u001b[0m     \u001b[38;5;28;01mreturn\u001b[39;00m \u001b[38;5;28;43mself\u001b[39;49m\u001b[38;5;241;43m.\u001b[39;49m\u001b[43m_run_step\u001b[49m\u001b[43m(\u001b[49m\u001b[43mstep\u001b[49m\u001b[43m,\u001b[49m\u001b[43m \u001b[49m\u001b[43mtask\u001b[49m\u001b[43m)\u001b[49m\n",
      "File \u001b[0;32m~/miniforge3/envs/yt/lib/python3.9/site-packages/llama_index/agent/react_multimodal/step.py:376\u001b[0m, in \u001b[0;36mMultimodalReActAgentWorker._run_step\u001b[0;34m(self, step, task)\u001b[0m\n\u001b[1;32m    374\u001b[0m chat_response \u001b[38;5;241m=\u001b[39m \u001b[38;5;28mself\u001b[39m\u001b[38;5;241m.\u001b[39m_multi_modal_llm\u001b[38;5;241m.\u001b[39mchat(input_chat)\n\u001b[1;32m    375\u001b[0m \u001b[38;5;66;03m# given react prompt outputs, call tools or return response\u001b[39;00m\n\u001b[0;32m--> 376\u001b[0m reasoning_steps, is_done \u001b[38;5;241m=\u001b[39m \u001b[38;5;28;43mself\u001b[39;49m\u001b[38;5;241;43m.\u001b[39;49m\u001b[43m_process_actions\u001b[49m\u001b[43m(\u001b[49m\n\u001b[1;32m    377\u001b[0m \u001b[43m    \u001b[49m\u001b[43mtask\u001b[49m\u001b[43m,\u001b[49m\u001b[43m \u001b[49m\u001b[43mtools\u001b[49m\u001b[43m,\u001b[49m\u001b[43m \u001b[49m\u001b[43moutput\u001b[49m\u001b[38;5;241;43m=\u001b[39;49m\u001b[43mchat_response\u001b[49m\n\u001b[1;32m    378\u001b[0m \u001b[43m\u001b[49m\u001b[43m)\u001b[49m\n\u001b[1;32m    379\u001b[0m task\u001b[38;5;241m.\u001b[39mextra_state[\u001b[38;5;124m\"\u001b[39m\u001b[38;5;124mcurrent_reasoning\u001b[39m\u001b[38;5;124m\"\u001b[39m]\u001b[38;5;241m.\u001b[39mextend(reasoning_steps)\n\u001b[1;32m    380\u001b[0m agent_response \u001b[38;5;241m=\u001b[39m \u001b[38;5;28mself\u001b[39m\u001b[38;5;241m.\u001b[39m_get_response(\n\u001b[1;32m    381\u001b[0m     task\u001b[38;5;241m.\u001b[39mextra_state[\u001b[38;5;124m\"\u001b[39m\u001b[38;5;124mcurrent_reasoning\u001b[39m\u001b[38;5;124m\"\u001b[39m], task\u001b[38;5;241m.\u001b[39mextra_state[\u001b[38;5;124m\"\u001b[39m\u001b[38;5;124msources\u001b[39m\u001b[38;5;124m\"\u001b[39m]\n\u001b[1;32m    382\u001b[0m )\n",
      "File \u001b[0;32m~/miniforge3/envs/yt/lib/python3.9/site-packages/llama_index/agent/react_multimodal/step.py:260\u001b[0m, in \u001b[0;36mMultimodalReActAgentWorker._process_actions\u001b[0;34m(self, task, tools, output, is_streaming)\u001b[0m\n\u001b[1;32m    252\u001b[0m tool \u001b[38;5;241m=\u001b[39m tools_dict[reasoning_step\u001b[38;5;241m.\u001b[39maction]\n\u001b[1;32m    253\u001b[0m \u001b[38;5;28;01mwith\u001b[39;00m \u001b[38;5;28mself\u001b[39m\u001b[38;5;241m.\u001b[39mcallback_manager\u001b[38;5;241m.\u001b[39mevent(\n\u001b[1;32m    254\u001b[0m     CBEventType\u001b[38;5;241m.\u001b[39mFUNCTION_CALL,\n\u001b[1;32m    255\u001b[0m     payload\u001b[38;5;241m=\u001b[39m{\n\u001b[0;32m   (...)\u001b[0m\n\u001b[1;32m    258\u001b[0m     },\n\u001b[1;32m    259\u001b[0m ) \u001b[38;5;28;01mas\u001b[39;00m event:\n\u001b[0;32m--> 260\u001b[0m     tool_output \u001b[38;5;241m=\u001b[39m \u001b[43mtool\u001b[49m\u001b[38;5;241;43m.\u001b[39;49m\u001b[43mcall\u001b[49m\u001b[43m(\u001b[49m\u001b[38;5;241;43m*\u001b[39;49m\u001b[38;5;241;43m*\u001b[39;49m\u001b[43mreasoning_step\u001b[49m\u001b[38;5;241;43m.\u001b[39;49m\u001b[43maction_input\u001b[49m\u001b[43m)\u001b[49m\n\u001b[1;32m    261\u001b[0m     event\u001b[38;5;241m.\u001b[39mon_end(payload\u001b[38;5;241m=\u001b[39m{EventPayload\u001b[38;5;241m.\u001b[39mFUNCTION_OUTPUT: \u001b[38;5;28mstr\u001b[39m(tool_output)})\n\u001b[1;32m    263\u001b[0m task\u001b[38;5;241m.\u001b[39mextra_state[\u001b[38;5;124m\"\u001b[39m\u001b[38;5;124msources\u001b[39m\u001b[38;5;124m\"\u001b[39m]\u001b[38;5;241m.\u001b[39mappend(tool_output)\n",
      "File \u001b[0;32m~/miniforge3/envs/yt/lib/python3.9/site-packages/llama_index/tools/function_tool.py:84\u001b[0m, in \u001b[0;36mFunctionTool.call\u001b[0;34m(self, *args, **kwargs)\u001b[0m\n\u001b[1;32m     82\u001b[0m \u001b[38;5;28;01mdef\u001b[39;00m \u001b[38;5;21mcall\u001b[39m(\u001b[38;5;28mself\u001b[39m, \u001b[38;5;241m*\u001b[39margs: Any, \u001b[38;5;241m*\u001b[39m\u001b[38;5;241m*\u001b[39mkwargs: Any) \u001b[38;5;241m-\u001b[39m\u001b[38;5;241m>\u001b[39m ToolOutput:\n\u001b[1;32m     83\u001b[0m \u001b[38;5;250m    \u001b[39m\u001b[38;5;124;03m\"\"\"Call.\"\"\"\u001b[39;00m\n\u001b[0;32m---> 84\u001b[0m     tool_output \u001b[38;5;241m=\u001b[39m \u001b[38;5;28;43mself\u001b[39;49m\u001b[38;5;241;43m.\u001b[39;49m\u001b[43m_fn\u001b[49m\u001b[43m(\u001b[49m\u001b[38;5;241;43m*\u001b[39;49m\u001b[43margs\u001b[49m\u001b[43m,\u001b[49m\u001b[43m \u001b[49m\u001b[38;5;241;43m*\u001b[39;49m\u001b[38;5;241;43m*\u001b[39;49m\u001b[43mkwargs\u001b[49m\u001b[43m)\u001b[49m\n\u001b[1;32m     85\u001b[0m     \u001b[38;5;28;01mreturn\u001b[39;00m ToolOutput(\n\u001b[1;32m     86\u001b[0m         content\u001b[38;5;241m=\u001b[39m\u001b[38;5;28mstr\u001b[39m(tool_output),\n\u001b[1;32m     87\u001b[0m         tool_name\u001b[38;5;241m=\u001b[39m\u001b[38;5;28mself\u001b[39m\u001b[38;5;241m.\u001b[39mmetadata\u001b[38;5;241m.\u001b[39mname,\n\u001b[1;32m     88\u001b[0m         raw_input\u001b[38;5;241m=\u001b[39m{\u001b[38;5;124m\"\u001b[39m\u001b[38;5;124margs\u001b[39m\u001b[38;5;124m\"\u001b[39m: args, \u001b[38;5;124m\"\u001b[39m\u001b[38;5;124mkwargs\u001b[39m\u001b[38;5;124m\"\u001b[39m: kwargs},\n\u001b[1;32m     89\u001b[0m         raw_output\u001b[38;5;241m=\u001b[39mtool_output,\n\u001b[1;32m     90\u001b[0m     )\n",
      "File \u001b[0;32m~/miniforge3/envs/yt/lib/python3.9/site-packages/llama_hub/tools/exa/base.py:56\u001b[0m, in \u001b[0;36mExaToolSpec.search\u001b[0;34m(self, query, num_results, include_domains, exclude_domains, start_published_date, end_published_date)\u001b[0m\n\u001b[1;32m     36\u001b[0m \u001b[38;5;28;01mdef\u001b[39;00m \u001b[38;5;21msearch\u001b[39m(\n\u001b[1;32m     37\u001b[0m     \u001b[38;5;28mself\u001b[39m,\n\u001b[1;32m     38\u001b[0m     query: \u001b[38;5;28mstr\u001b[39m,\n\u001b[0;32m   (...)\u001b[0m\n\u001b[1;32m     43\u001b[0m     end_published_date: Optional[\u001b[38;5;28mstr\u001b[39m] \u001b[38;5;241m=\u001b[39m \u001b[38;5;28;01mNone\u001b[39;00m,\n\u001b[1;32m     44\u001b[0m ) \u001b[38;5;241m-\u001b[39m\u001b[38;5;241m>\u001b[39m List:\n\u001b[1;32m     45\u001b[0m \u001b[38;5;250m    \u001b[39m\u001b[38;5;124;03m\"\"\"\u001b[39;00m\n\u001b[1;32m     46\u001b[0m \u001b[38;5;124;03m    Exa allows you to use a natural language query to search the internet\u001b[39;00m\n\u001b[1;32m     47\u001b[0m \n\u001b[0;32m   (...)\u001b[0m\n\u001b[1;32m     54\u001b[0m \u001b[38;5;124;03m        end_published_date (Optional[str]): End date string\u001b[39;00m\n\u001b[1;32m     55\u001b[0m \u001b[38;5;124;03m    \"\"\"\u001b[39;00m\n\u001b[0;32m---> 56\u001b[0m     response \u001b[38;5;241m=\u001b[39m \u001b[38;5;28;43mself\u001b[39;49m\u001b[38;5;241;43m.\u001b[39;49m\u001b[43mclient\u001b[49m\u001b[38;5;241;43m.\u001b[39;49m\u001b[43msearch\u001b[49m\u001b[43m(\u001b[49m\n\u001b[1;32m     57\u001b[0m \u001b[43m        \u001b[49m\u001b[43mquery\u001b[49m\u001b[43m,\u001b[49m\n\u001b[1;32m     58\u001b[0m \u001b[43m        \u001b[49m\u001b[43mnum_results\u001b[49m\u001b[38;5;241;43m=\u001b[39;49m\u001b[43mnum_results\u001b[49m\u001b[43m,\u001b[49m\n\u001b[1;32m     59\u001b[0m \u001b[43m        \u001b[49m\u001b[43minclude_domains\u001b[49m\u001b[38;5;241;43m=\u001b[39;49m\u001b[43minclude_domains\u001b[49m\u001b[43m,\u001b[49m\n\u001b[1;32m     60\u001b[0m \u001b[43m        \u001b[49m\u001b[43mexclude_domains\u001b[49m\u001b[38;5;241;43m=\u001b[39;49m\u001b[43mexclude_domains\u001b[49m\u001b[43m,\u001b[49m\n\u001b[1;32m     61\u001b[0m \u001b[43m        \u001b[49m\u001b[43mstart_published_date\u001b[49m\u001b[38;5;241;43m=\u001b[39;49m\u001b[43mstart_published_date\u001b[49m\u001b[43m,\u001b[49m\n\u001b[1;32m     62\u001b[0m \u001b[43m        \u001b[49m\u001b[43mend_published_date\u001b[49m\u001b[38;5;241;43m=\u001b[39;49m\u001b[43mend_published_date\u001b[49m\u001b[43m,\u001b[49m\n\u001b[1;32m     63\u001b[0m \u001b[43m        \u001b[49m\u001b[43muse_autoprompt\u001b[49m\u001b[38;5;241;43m=\u001b[39;49m\u001b[38;5;28;43;01mTrue\u001b[39;49;00m\u001b[43m,\u001b[49m\n\u001b[1;32m     64\u001b[0m \u001b[43m    \u001b[49m\u001b[43m)\u001b[49m\n\u001b[1;32m     65\u001b[0m     \u001b[38;5;28;01mif\u001b[39;00m \u001b[38;5;28mself\u001b[39m\u001b[38;5;241m.\u001b[39m_verbose:\n\u001b[1;32m     66\u001b[0m         \u001b[38;5;28mprint\u001b[39m(\u001b[38;5;124mf\u001b[39m\u001b[38;5;124m\"\u001b[39m\u001b[38;5;124m[Exa Tool] Autoprompt: \u001b[39m\u001b[38;5;132;01m{\u001b[39;00mresponse\u001b[38;5;241m.\u001b[39mautoprompt_string\u001b[38;5;132;01m}\u001b[39;00m\u001b[38;5;124m\"\u001b[39m)\n",
      "File \u001b[0;32m~/miniforge3/envs/yt/lib/python3.9/site-packages/exa_py/api.py:384\u001b[0m, in \u001b[0;36mExa.search\u001b[0;34m(self, query, num_results, include_domains, exclude_domains, start_crawl_date, end_crawl_date, start_published_date, end_published_date, use_autoprompt, type, category)\u001b[0m\n\u001b[1;32m    382\u001b[0m validate_search_options(options, SEARCH_OPTIONS_TYPES)\n\u001b[1;32m    383\u001b[0m options \u001b[38;5;241m=\u001b[39m to_camel_case(options)\n\u001b[0;32m--> 384\u001b[0m data \u001b[38;5;241m=\u001b[39m \u001b[38;5;28;43mself\u001b[39;49m\u001b[38;5;241;43m.\u001b[39;49m\u001b[43mrequest\u001b[49m\u001b[43m(\u001b[49m\u001b[38;5;124;43m\"\u001b[39;49m\u001b[38;5;124;43m/search\u001b[39;49m\u001b[38;5;124;43m\"\u001b[39;49m\u001b[43m,\u001b[49m\u001b[43m \u001b[49m\u001b[43moptions\u001b[49m\u001b[43m)\u001b[49m\n\u001b[1;32m    385\u001b[0m \u001b[38;5;28;01mreturn\u001b[39;00m SearchResponse(\n\u001b[1;32m    386\u001b[0m     [Result(\u001b[38;5;241m*\u001b[39m\u001b[38;5;241m*\u001b[39mto_snake_case(result)) \u001b[38;5;28;01mfor\u001b[39;00m result \u001b[38;5;129;01min\u001b[39;00m data[\u001b[38;5;124m\"\u001b[39m\u001b[38;5;124mresults\u001b[39m\u001b[38;5;124m\"\u001b[39m]],\n\u001b[1;32m    387\u001b[0m     data[\u001b[38;5;124m\"\u001b[39m\u001b[38;5;124mautopromptString\u001b[39m\u001b[38;5;124m\"\u001b[39m] \u001b[38;5;28;01mif\u001b[39;00m \u001b[38;5;124m\"\u001b[39m\u001b[38;5;124mautopromptString\u001b[39m\u001b[38;5;124m\"\u001b[39m \u001b[38;5;129;01min\u001b[39;00m data \u001b[38;5;28;01melse\u001b[39;00m \u001b[38;5;28;01mNone\u001b[39;00m,\n\u001b[1;32m    388\u001b[0m )\n",
      "File \u001b[0;32m~/miniforge3/envs/yt/lib/python3.9/site-packages/exa_py/api.py:344\u001b[0m, in \u001b[0;36mExa.request\u001b[0;34m(self, endpoint, data)\u001b[0m\n\u001b[1;32m    342\u001b[0m res \u001b[38;5;241m=\u001b[39m requests\u001b[38;5;241m.\u001b[39mpost(\u001b[38;5;28mself\u001b[39m\u001b[38;5;241m.\u001b[39mbase_url \u001b[38;5;241m+\u001b[39m endpoint, json\u001b[38;5;241m=\u001b[39mdata, headers\u001b[38;5;241m=\u001b[39m\u001b[38;5;28mself\u001b[39m\u001b[38;5;241m.\u001b[39mheaders)\n\u001b[1;32m    343\u001b[0m \u001b[38;5;28;01mif\u001b[39;00m res\u001b[38;5;241m.\u001b[39mstatus_code \u001b[38;5;241m!=\u001b[39m \u001b[38;5;241m200\u001b[39m:\n\u001b[0;32m--> 344\u001b[0m     \u001b[38;5;28;01mraise\u001b[39;00m \u001b[38;5;167;01mValueError\u001b[39;00m(\n\u001b[1;32m    345\u001b[0m         \u001b[38;5;124mf\u001b[39m\u001b[38;5;124m\"\u001b[39m\u001b[38;5;124mRequest failed with status code \u001b[39m\u001b[38;5;132;01m{\u001b[39;00mres\u001b[38;5;241m.\u001b[39mstatus_code\u001b[38;5;132;01m}\u001b[39;00m\u001b[38;5;124m: \u001b[39m\u001b[38;5;132;01m{\u001b[39;00mres\u001b[38;5;241m.\u001b[39mtext\u001b[38;5;132;01m}\u001b[39;00m\u001b[38;5;124m\"\u001b[39m\n\u001b[1;32m    346\u001b[0m     )\n\u001b[1;32m    347\u001b[0m \u001b[38;5;28;01mreturn\u001b[39;00m res\u001b[38;5;241m.\u001b[39mjson()\n",
      "\u001b[0;31mValueError\u001b[0m: Request failed with status code 401: {\"error\":\"Invalid API key. API key is not a UUID\"}"
     ]
    }
   ],
   "source": [
    "# no EXA api key here\n",
    "response = execute_step(agent, task)"
   ]
  },
  {
   "cell_type": "code",
   "execution_count": 26,
   "id": "1adeb9a8",
   "metadata": {},
   "outputs": [
    {
     "ename": "IndexError",
     "evalue": "pop from an empty deque",
     "output_type": "error",
     "traceback": [
      "\u001b[0;31m---------------------------------------------------------------------------\u001b[0m",
      "\u001b[0;31mIndexError\u001b[0m                                Traceback (most recent call last)",
      "Input \u001b[0;32mIn [26]\u001b[0m, in \u001b[0;36m<cell line: 1>\u001b[0;34m()\u001b[0m\n\u001b[0;32m----> 1\u001b[0m response \u001b[38;5;241m=\u001b[39m \u001b[43mexecute_step\u001b[49m\u001b[43m(\u001b[49m\u001b[43magent\u001b[49m\u001b[43m,\u001b[49m\u001b[43m \u001b[49m\u001b[43mtask\u001b[49m\u001b[43m)\u001b[49m\n",
      "Input \u001b[0;32mIn [24]\u001b[0m, in \u001b[0;36mexecute_step\u001b[0;34m(agent, task)\u001b[0m\n\u001b[1;32m      1\u001b[0m \u001b[38;5;28;01mdef\u001b[39;00m \u001b[38;5;21mexecute_step\u001b[39m(agent: AgentRunner, task: Task):\n\u001b[0;32m----> 2\u001b[0m     step_output \u001b[38;5;241m=\u001b[39m \u001b[43magent\u001b[49m\u001b[38;5;241;43m.\u001b[39;49m\u001b[43mrun_step\u001b[49m\u001b[43m(\u001b[49m\u001b[43mtask\u001b[49m\u001b[38;5;241;43m.\u001b[39;49m\u001b[43mtask_id\u001b[49m\u001b[43m)\u001b[49m\n\u001b[1;32m      3\u001b[0m     \u001b[38;5;28;01mif\u001b[39;00m step_output\u001b[38;5;241m.\u001b[39mis_last:\n\u001b[1;32m      4\u001b[0m         response \u001b[38;5;241m=\u001b[39m agent\u001b[38;5;241m.\u001b[39mfinalize_response(task\u001b[38;5;241m.\u001b[39mtask_id)\n",
      "File \u001b[0;32m~/miniforge3/envs/yt/lib/python3.9/site-packages/llama_index/agent/runner/base.py:358\u001b[0m, in \u001b[0;36mAgentRunner.run_step\u001b[0;34m(self, task_id, input, step, **kwargs)\u001b[0m\n\u001b[1;32m    356\u001b[0m \u001b[38;5;250m\u001b[39m\u001b[38;5;124;03m\"\"\"Run step.\"\"\"\u001b[39;00m\n\u001b[1;32m    357\u001b[0m step \u001b[38;5;241m=\u001b[39m validate_step_from_args(task_id, \u001b[38;5;28minput\u001b[39m, step, \u001b[38;5;241m*\u001b[39m\u001b[38;5;241m*\u001b[39mkwargs)\n\u001b[0;32m--> 358\u001b[0m \u001b[38;5;28;01mreturn\u001b[39;00m \u001b[38;5;28;43mself\u001b[39;49m\u001b[38;5;241;43m.\u001b[39;49m\u001b[43m_run_step\u001b[49m\u001b[43m(\u001b[49m\u001b[43mtask_id\u001b[49m\u001b[43m,\u001b[49m\u001b[43m \u001b[49m\u001b[43mstep\u001b[49m\u001b[43m,\u001b[49m\u001b[43m \u001b[49m\u001b[43mmode\u001b[49m\u001b[38;5;241;43m=\u001b[39;49m\u001b[43mChatResponseMode\u001b[49m\u001b[38;5;241;43m.\u001b[39;49m\u001b[43mWAIT\u001b[49m\u001b[43m,\u001b[49m\u001b[43m \u001b[49m\u001b[38;5;241;43m*\u001b[39;49m\u001b[38;5;241;43m*\u001b[39;49m\u001b[43mkwargs\u001b[49m\u001b[43m)\u001b[49m\n",
      "File \u001b[0;32m~/miniforge3/envs/yt/lib/python3.9/site-packages/llama_index/agent/runner/base.py:298\u001b[0m, in \u001b[0;36mAgentRunner._run_step\u001b[0;34m(self, task_id, step, mode, **kwargs)\u001b[0m\n\u001b[1;32m    296\u001b[0m task \u001b[38;5;241m=\u001b[39m \u001b[38;5;28mself\u001b[39m\u001b[38;5;241m.\u001b[39mstate\u001b[38;5;241m.\u001b[39mget_task(task_id)\n\u001b[1;32m    297\u001b[0m step_queue \u001b[38;5;241m=\u001b[39m \u001b[38;5;28mself\u001b[39m\u001b[38;5;241m.\u001b[39mstate\u001b[38;5;241m.\u001b[39mget_step_queue(task_id)\n\u001b[0;32m--> 298\u001b[0m step \u001b[38;5;241m=\u001b[39m step \u001b[38;5;129;01mor\u001b[39;00m \u001b[43mstep_queue\u001b[49m\u001b[38;5;241;43m.\u001b[39;49m\u001b[43mpopleft\u001b[49m\u001b[43m(\u001b[49m\u001b[43m)\u001b[49m\n\u001b[1;32m    300\u001b[0m \u001b[38;5;66;03m# TODO: figure out if you can dynamically swap in different step executors\u001b[39;00m\n\u001b[1;32m    301\u001b[0m \u001b[38;5;66;03m# not clear when you would do that by theoretically possible\u001b[39;00m\n\u001b[1;32m    303\u001b[0m \u001b[38;5;28;01mif\u001b[39;00m mode \u001b[38;5;241m==\u001b[39m ChatResponseMode\u001b[38;5;241m.\u001b[39mWAIT:\n",
      "\u001b[0;31mIndexError\u001b[0m: pop from an empty deque"
     ]
    }
   ],
   "source": [
    "response = execute_step(agent, task)"
   ]
  },
  {
   "cell_type": "code",
   "execution_count": null,
   "id": "d1343717",
   "metadata": {},
   "outputs": [],
   "source": []
  }
 ],
 "metadata": {
  "kernelspec": {
   "display_name": "Python 3 (ipykernel)",
   "language": "python",
   "name": "python3"
  },
  "language_info": {
   "codemirror_mode": {
    "name": "ipython",
    "version": 3
   },
   "file_extension": ".py",
   "mimetype": "text/x-python",
   "name": "python",
   "nbconvert_exporter": "python",
   "pygments_lexer": "ipython3",
   "version": "3.9.10"
  }
 },
 "nbformat": 4,
 "nbformat_minor": 5
}
